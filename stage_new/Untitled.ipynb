{
 "cells": [
  {
   "cell_type": "code",
   "execution_count": 7,
   "id": "2d7dff0f-8677-4b68-bbc4-7afde3e51cff",
   "metadata": {
    "scrolled": true
   },
   "outputs": [],
   "source": [
    "import pandas as pd\n"
   ]
  },
  {
   "cell_type": "code",
   "execution_count": 70,
   "id": "5c327761-b9b3-438a-94ee-132661119903",
   "metadata": {},
   "outputs": [],
   "source": [
    "df2 = pd.read_excel(\"Untitled spreadsheet.xlsx\")\n",
    "df = pd.read_excel(\"Untitled spreadsheet (3).xlsx\")"
   ]
  },
  {
   "cell_type": "code",
   "execution_count": 100,
   "id": "e8cae7b4-bc70-49eb-94ca-40e29c5bca61",
   "metadata": {},
   "outputs": [],
   "source": [
    "df2 = pd.read_excel(\"Untitled spreadsheet.xlsx\")\n"
   ]
  },
  {
   "cell_type": "code",
   "execution_count": 89,
   "id": "fc9086a6-85ff-44a1-a09f-ec987b2a6d6e",
   "metadata": {},
   "outputs": [],
   "source": [
    "df2['ﺘﺎرﻴﺦ اﻝوﻻدة'] = df2['ﺘﺎرﻴﺦ اﻝوﻻدة'].str.replace('٠', '0').str.replace('١', '1').str.replace('٢', '2') \\\n",
    "                             .str.replace('٣', '3').str.replace('٤', '4').str.replace('٥', '5') \\\n",
    "                             .str.replace('٦', '6').str.replace('٧', '7').str.replace('٨', '8') \\\n",
    "                             .str.replace('٩', '9')\n",
    "\n",
    "# Handle incomplete dates by adding a default month and day if missing\n",
    "# If the date has only year, set a default month and day (e.g., 01/01)\n",
    "df2['ﺘﺎرﻴﺦ اﻝوﻻدة'] = df2['ﺘﺎرﻴﺦ اﻝوﻻدة'].apply(lambda x: x if len(x.split('/')) == 3 else x + '/01/01')\n",
    "\n",
    "# Convert the date to datetime, with errors='coerce' to handle invalid dates\n",
    "df2['date'] = pd.to_datetime(df2['ﺘﺎرﻴﺦ اﻝوﻻدة'], errors='coerce', format='%Y/%m/%d')\n",
    "\n",
    "# Filter the dates between 1984 and 2004 (inclusive)\n",
    "filtered_df = df2[(df2['date'] >= '1984-01-01') & (df2['date'] <= '2004-12-31')]\n",
    "df2['ﺘﺎرﻴﺦ اﻝوﻻدة'] = df2['ﺘﺎرﻴﺦ اﻝوﻻدة'].str.replace('٠', '0').str.replace('١', '1').str.replace('٢', '2') \\\n",
    "                             .str.replace('٣', '3').str.replace('٤', '4').str.replace('٥', '5') \\\n",
    "                             .str.replace('٦', '6').str.replace('٧', '7').str.replace('٨', '8') \\\n",
    "                             .str.replace('٩', '9')\n",
    "\n",
    "# Handle incomplete dates by adding a default month and day if missing\n",
    "# If the date has only year, set a default month and day (e.g., 01/01)\n",
    "df2['ﺘﺎرﻴﺦ اﻝوﻻدة'] = df2['ﺘﺎرﻴﺦ اﻝوﻻدة'].apply(lambda x: x if len(x.split('/')) == 3 else x + '/01/01')\n",
    "\n",
    "# Convert the date to datetime, with errors='coerce' to handle invalid dates\n",
    "df2['date'] = pd.to_datetime(df2['ﺘﺎرﻴﺦ اﻝوﻻدة'], errors='coerce', format='%Y/%m/%d')\n",
    "\n",
    "# Filter the dates between 1984 and 2004 (inclusive)\n",
    "filtered_df = df2[(df2['date'] >= '1984-01-01') & (df2['date'] <= '2004-12-31')]\n",
    "\n",
    "filtered_df.to_excel('filtered_dates.xlsx', index=False)"
   ]
  },
  {
   "cell_type": "code",
   "execution_count": 90,
   "id": "32b152e3-7ed0-4cab-aa8a-312e0b9b5710",
   "metadata": {},
   "outputs": [
    {
     "data": {
      "text/html": [
       "<div>\n",
       "<style scoped>\n",
       "    .dataframe tbody tr th:only-of-type {\n",
       "        vertical-align: middle;\n",
       "    }\n",
       "\n",
       "    .dataframe tbody tr th {\n",
       "        vertical-align: top;\n",
       "    }\n",
       "\n",
       "    .dataframe thead th {\n",
       "        text-align: right;\n",
       "    }\n",
       "</style>\n",
       "<table border=\"1\" class=\"dataframe\">\n",
       "  <thead>\n",
       "    <tr style=\"text-align: right;\">\n",
       "      <th></th>\n",
       "      <th>ﻤﻼﺤظﺎت</th>\n",
       "      <th>رﻗم اﻝﻘﻴد</th>\n",
       "      <th>اﻝﻤذﻫب</th>\n",
       "      <th>ﺘﺎرﻴﺦ اﻝوﻻدة</th>\n",
       "      <th>إﺴم اﻻم وﺸﻬرﺘﻬﺎ</th>\n",
       "      <th>إﺴم اﻻب</th>\n",
       "      <th>اﻻﺴم واﻝﺸﻬرة</th>\n",
       "      <th>Prénom</th>\n",
       "      <th>Nom</th>\n",
       "      <th>date</th>\n",
       "    </tr>\n",
       "  </thead>\n",
       "  <tbody>\n",
       "    <tr>\n",
       "      <th>5</th>\n",
       "      <td>NaN</td>\n",
       "      <td>٢</td>\n",
       "      <td>ﻤﺎروﻨﻲ</td>\n",
       "      <td>1984/12/14</td>\n",
       "      <td>ﻤﺎﻜﻲ ﺴﻼﻤﻪ</td>\n",
       "      <td>اﺴﻌد</td>\n",
       "      <td>رزق اﷲ اﻝﺤﻠو</td>\n",
       "      <td>رزق اﷲ</td>\n",
       "      <td>اﻝﺤﻠو</td>\n",
       "      <td>1984-12-14</td>\n",
       "    </tr>\n",
       "    <tr>\n",
       "      <th>24</th>\n",
       "      <td>NaN</td>\n",
       "      <td>٢</td>\n",
       "      <td>ﻤﺎروﻨﻲ</td>\n",
       "      <td>1989/04/01</td>\n",
       "      <td>اﻤﺎل اﻝﻤﻴر</td>\n",
       "      <td>ﺠﺎن</td>\n",
       "      <td>ﻫﻨﺎدي ﻓﻬد</td>\n",
       "      <td>ﻫﻨﺎدي</td>\n",
       "      <td>ﻓﻬد</td>\n",
       "      <td>1989-04-01</td>\n",
       "    </tr>\n",
       "    <tr>\n",
       "      <th>25</th>\n",
       "      <td>NaN</td>\n",
       "      <td>٣</td>\n",
       "      <td>ﻤﺎروﻨﻲ</td>\n",
       "      <td>1984/01/01</td>\n",
       "      <td>ﺠﻤﺎل دروﻴش</td>\n",
       "      <td>اﻝﻴﺎس</td>\n",
       "      <td>ﻤرﻴﺎﻨﺎ طﻨوس</td>\n",
       "      <td>ﻤرﻴﺎﻨﺎ</td>\n",
       "      <td>طﻨوس</td>\n",
       "      <td>1984-01-01</td>\n",
       "    </tr>\n",
       "    <tr>\n",
       "      <th>26</th>\n",
       "      <td>NaN</td>\n",
       "      <td>٣</td>\n",
       "      <td>روم ارﺜوذﻜس</td>\n",
       "      <td>1985/06/15</td>\n",
       "      <td>زﻜﻴﻪ رﺤﻴم</td>\n",
       "      <td>ﻏﺴﺎن</td>\n",
       "      <td>ﻤﺎرﺴﻠﻴﻨﺎ ﺠروج</td>\n",
       "      <td>ﻤﺎرﺴﻠﻴﻨﺎ</td>\n",
       "      <td>ﺠروج</td>\n",
       "      <td>1985-06-15</td>\n",
       "    </tr>\n",
       "    <tr>\n",
       "      <th>35</th>\n",
       "      <td>NaN</td>\n",
       "      <td>٧</td>\n",
       "      <td>ﻤﺎروﻨﻲ</td>\n",
       "      <td>1985/09/06</td>\n",
       "      <td>ﺼوﻨﻴﺎ ﻨﻬرﻩ</td>\n",
       "      <td>ﺒطرس</td>\n",
       "      <td>ﻤﺎرﻴّﺎ ﻨﻬرﻩ</td>\n",
       "      <td>ﻤﺎرﻴّﺎ</td>\n",
       "      <td>ﻨﻬرﻩ</td>\n",
       "      <td>1985-09-06</td>\n",
       "    </tr>\n",
       "    <tr>\n",
       "      <th>...</th>\n",
       "      <td>...</td>\n",
       "      <td>...</td>\n",
       "      <td>...</td>\n",
       "      <td>...</td>\n",
       "      <td>...</td>\n",
       "      <td>...</td>\n",
       "      <td>...</td>\n",
       "      <td>...</td>\n",
       "      <td>...</td>\n",
       "      <td>...</td>\n",
       "    </tr>\n",
       "    <tr>\n",
       "      <th>714</th>\n",
       "      <td>NaN</td>\n",
       "      <td>٦٤</td>\n",
       "      <td>ﻤﺎروﻨﻲ</td>\n",
       "      <td>1994/08/15</td>\n",
       "      <td>ﻝﻴﻠﻰ اﻝدﻝﺒﺘﺎﻨﻲ</td>\n",
       "      <td>ﺒﺸﺎرﻩ</td>\n",
       "      <td>ﺠﻴﻠﺒﻴر ﺤﻠو</td>\n",
       "      <td>ﺠﻴﻠﺒﻴر</td>\n",
       "      <td>ﺤﻠو</td>\n",
       "      <td>1994-08-15</td>\n",
       "    </tr>\n",
       "    <tr>\n",
       "      <th>715</th>\n",
       "      <td>NaN</td>\n",
       "      <td>٦٤</td>\n",
       "      <td>ﻤﺎروﻨﻲ</td>\n",
       "      <td>1997/12/09</td>\n",
       "      <td>ﻤﺎرﻴﺎ ﻏﺒرﻴﻼ ﻏﺎرﺴﻴﺎدل ﻜورو دى ﺤﻠو</td>\n",
       "      <td>داﻨﻴﺎل</td>\n",
       "      <td>اﻏوﺴطﻴن ﺤﻠو</td>\n",
       "      <td>اﻏوﺴطﻴن</td>\n",
       "      <td>ﺤﻠو</td>\n",
       "      <td>1997-12-09</td>\n",
       "    </tr>\n",
       "    <tr>\n",
       "      <th>717</th>\n",
       "      <td>NaN</td>\n",
       "      <td>٧٧</td>\n",
       "      <td>ﻤﺎروﻨﻲ</td>\n",
       "      <td>1989/01/13</td>\n",
       "      <td>ﻫﻨد اﻝﻌﺠوري</td>\n",
       "      <td>اﺴﻜﻨدر</td>\n",
       "      <td>ﺤﻨﺎ ﻨﻬرﻩ</td>\n",
       "      <td>ﺤﻨﺎ</td>\n",
       "      <td>ﻨﻬرﻩ</td>\n",
       "      <td>1989-01-13</td>\n",
       "    </tr>\n",
       "    <tr>\n",
       "      <th>736</th>\n",
       "      <td>NaN</td>\n",
       "      <td>٨٢</td>\n",
       "      <td>ﻤﺎروﻨﻲ</td>\n",
       "      <td>1984/08/22</td>\n",
       "      <td>ﺨواﻨﺎ ﻨﻬرﻩ</td>\n",
       "      <td>ﺨورﺨﻲ ﻓدرﻴﻜو</td>\n",
       "      <td>ﺴﺒﺴﺘﻴﺎن اﻏﻨﺎﺴﻴو رودرﻴﻐز</td>\n",
       "      <td>ﺴﺒﺴﺘﻴﺎن اﻏﻨﺎﺴﻴو</td>\n",
       "      <td>رودرﻴﻐز</td>\n",
       "      <td>1984-08-22</td>\n",
       "    </tr>\n",
       "    <tr>\n",
       "      <th>738</th>\n",
       "      <td>NaN</td>\n",
       "      <td>٨٣</td>\n",
       "      <td>ﻤﺎروﻨﻲ</td>\n",
       "      <td>1997/05/10</td>\n",
       "      <td>ﻤرﻴم اﻝزﻨﺎﺘﻲ</td>\n",
       "      <td>ﻏﺴﺎن</td>\n",
       "      <td>ﺠوﻨﻲ اﻝﻜﺴرواﻨﻲ</td>\n",
       "      <td>ﺠوﻨﻲ</td>\n",
       "      <td>اﻝﻜﺴرواﻨﻲ</td>\n",
       "      <td>1997-05-10</td>\n",
       "    </tr>\n",
       "  </tbody>\n",
       "</table>\n",
       "<p>209 rows × 10 columns</p>\n",
       "</div>"
      ],
      "text/plain": [
       "    ﻤﻼﺤظﺎت رﻗم اﻝﻘﻴد       اﻝﻤذﻫب ﺘﺎرﻴﺦ اﻝوﻻدة  \\\n",
       "5      NaN         ٢       ﻤﺎروﻨﻲ   1984/12/14   \n",
       "24     NaN         ٢       ﻤﺎروﻨﻲ   1989/04/01   \n",
       "25     NaN         ٣       ﻤﺎروﻨﻲ   1984/01/01   \n",
       "26     NaN         ٣  روم ارﺜوذﻜس   1985/06/15   \n",
       "35     NaN         ٧       ﻤﺎروﻨﻲ   1985/09/06   \n",
       "..     ...       ...          ...          ...   \n",
       "714    NaN        ٦٤       ﻤﺎروﻨﻲ   1994/08/15   \n",
       "715    NaN        ٦٤       ﻤﺎروﻨﻲ   1997/12/09   \n",
       "717    NaN        ٧٧       ﻤﺎروﻨﻲ   1989/01/13   \n",
       "736    NaN        ٨٢       ﻤﺎروﻨﻲ   1984/08/22   \n",
       "738    NaN        ٨٣       ﻤﺎروﻨﻲ   1997/05/10   \n",
       "\n",
       "                      إﺴم اﻻم وﺸﻬرﺘﻬﺎ       إﺴم اﻻب             اﻻﺴم واﻝﺸﻬرة  \\\n",
       "5                           ﻤﺎﻜﻲ ﺴﻼﻤﻪ          اﺴﻌد             رزق اﷲ اﻝﺤﻠو   \n",
       "24                         اﻤﺎل اﻝﻤﻴر           ﺠﺎن                ﻫﻨﺎدي ﻓﻬد   \n",
       "25                         ﺠﻤﺎل دروﻴش         اﻝﻴﺎس              ﻤرﻴﺎﻨﺎ طﻨوس   \n",
       "26                          زﻜﻴﻪ رﺤﻴم          ﻏﺴﺎن            ﻤﺎرﺴﻠﻴﻨﺎ ﺠروج   \n",
       "35                         ﺼوﻨﻴﺎ ﻨﻬرﻩ          ﺒطرس              ﻤﺎرﻴّﺎ ﻨﻬرﻩ   \n",
       "..                                ...           ...                      ...   \n",
       "714                    ﻝﻴﻠﻰ اﻝدﻝﺒﺘﺎﻨﻲ         ﺒﺸﺎرﻩ               ﺠﻴﻠﺒﻴر ﺤﻠو   \n",
       "715  ﻤﺎرﻴﺎ ﻏﺒرﻴﻼ ﻏﺎرﺴﻴﺎدل ﻜورو دى ﺤﻠو        داﻨﻴﺎل              اﻏوﺴطﻴن ﺤﻠو   \n",
       "717                       ﻫﻨد اﻝﻌﺠوري        اﺴﻜﻨدر                 ﺤﻨﺎ ﻨﻬرﻩ   \n",
       "736                        ﺨواﻨﺎ ﻨﻬرﻩ  ﺨورﺨﻲ ﻓدرﻴﻜو  ﺴﺒﺴﺘﻴﺎن اﻏﻨﺎﺴﻴو رودرﻴﻐز   \n",
       "738                      ﻤرﻴم اﻝزﻨﺎﺘﻲ          ﻏﺴﺎن           ﺠوﻨﻲ اﻝﻜﺴرواﻨﻲ   \n",
       "\n",
       "              Prénom        Nom       date  \n",
       "5             رزق اﷲ      اﻝﺤﻠو 1984-12-14  \n",
       "24             ﻫﻨﺎدي        ﻓﻬد 1989-04-01  \n",
       "25            ﻤرﻴﺎﻨﺎ       طﻨوس 1984-01-01  \n",
       "26          ﻤﺎرﺴﻠﻴﻨﺎ       ﺠروج 1985-06-15  \n",
       "35            ﻤﺎرﻴّﺎ       ﻨﻬرﻩ 1985-09-06  \n",
       "..               ...        ...        ...  \n",
       "714           ﺠﻴﻠﺒﻴر        ﺤﻠو 1994-08-15  \n",
       "715          اﻏوﺴطﻴن        ﺤﻠو 1997-12-09  \n",
       "717              ﺤﻨﺎ       ﻨﻬرﻩ 1989-01-13  \n",
       "736  ﺴﺒﺴﺘﻴﺎن اﻏﻨﺎﺴﻴو    رودرﻴﻐز 1984-08-22  \n",
       "738             ﺠوﻨﻲ  اﻝﻜﺴرواﻨﻲ 1997-05-10  \n",
       "\n",
       "[209 rows x 10 columns]"
      ]
     },
     "execution_count": 90,
     "metadata": {},
     "output_type": "execute_result"
    }
   ],
   "source": [
    "filtered_df"
   ]
  },
  {
   "cell_type": "code",
   "execution_count": 101,
   "id": "bc597147-431c-4662-875f-78f218aa2083",
   "metadata": {},
   "outputs": [],
   "source": [
    "df[['Prénom', 'Nom']] = df['اﻻﺴم واﻝﺸﻬرة'].str.split(' ', n=1, expand=True)\n",
    "df2[['Prénom', 'Nom']] = df2['اﻻﺴم واﻝﺸﻬرة'].str.split(' ', n=1, expand=True)\n"
   ]
  },
  {
   "cell_type": "code",
   "execution_count": 102,
   "id": "6a48f812-408d-4cff-adc5-45cb56257fbe",
   "metadata": {},
   "outputs": [
    {
     "name": "stdout",
     "output_type": "stream",
     "text": [
      "     Prénom    Nom\n",
      "0    رزق اﷲ  اﻝﺤﻠو\n",
      "1     ﻫﻨﺎدي    ﻓﻬد\n",
      "2    ﻤرﻴﺎﻨﺎ   طﻨوس\n",
      "3  ﻤﺎرﺴﻠﻴﻨﺎ   ﺠروج\n",
      "4    ﻤﺎرﻴّﺎ   ﻨﻬرﻩ\n"
     ]
    }
   ],
   "source": [
    "df['Prénom'] = df['اﻻﺴم واﻝﺸﻬرة'].str.split(' ').apply(lambda x: ' '.join(x[:-1]) if len(x) > 1 else '')  # tous les mots sauf le dernier (prénom(s))\n",
    "df['Nom'] = df['اﻻﺴم واﻝﺸﻬرة'].str.split(' ').apply(lambda x: x[-1] if len(x) > 0 else '')  # dernier mot (nom)\n",
    "\n",
    "df2['Prénom'] = df2['اﻻﺴم واﻝﺸﻬرة'].str.split(' ').apply(lambda x: ' '.join(x[:-1]) if len(x) > 1 else '')  # tous les mots sauf le dernier (prénom(s))\n",
    "df2['Nom'] = df2['اﻻﺴم واﻝﺸﻬرة'].str.split(' ').apply(lambda x: x[-1] if len(x) > 0 else '')\n",
    "\n",
    "# Vérifier que les deux colonnes sont bien créées\n",
    "print(df[['Prénom', 'Nom']].head())"
   ]
  },
  {
   "cell_type": "code",
   "execution_count": 103,
   "id": "35b56895-0f00-4909-918b-10ece6c7c007",
   "metadata": {
    "scrolled": true
   },
   "outputs": [
    {
     "name": "stdout",
     "output_type": "stream",
     "text": [
      "ﻨﻬرﻩ: 37\n",
      "طوﺒﻴﺎ: 28\n",
      "ﻋون: 28\n",
      "اﻝزﻨﺎﺘﻲ: 16\n",
      "اﻝﺤﻠو: 13\n",
      "ﻋﺒدو: 11\n",
      "ﺒﺸﺎرﻩ: 9\n",
      "ﻨﻬرا: 7\n",
      "ﻀﺎﻫر: 6\n",
      "طﺎﻴﻊ: 6\n",
      "ﻤطر: 5\n",
      "ﺤﻠو: 3\n",
      "ﻏﻨطوس: 3\n",
      "اﻝﻜﺴرواﻨﻲ: 2\n",
      "اﻝﻌﻨداري: 1\n",
      "ﺴﻠﻴم: 1\n",
      "اﻨدرﺸﻴﻨﻜو: 1\n",
      "ﺸﻌﻴﺎ: 1\n",
      "اﻴﻠﻴﺎ: 1\n",
      "اﺴﻌد: 1\n",
      "ﻗﺼوراﻨﻲ: 1\n",
      "ﺒرﻜﺎت: 1\n",
      "ﻋﻴﺴﻰ: 1\n",
      "ﺴﺠﻌﺎن: 1\n",
      "زﻜزك: 1\n",
      "اﻝﻘزي: 1\n",
      "ﻋﺒدﻩ: 1\n",
      "ﻤﺨﻠوف: 1\n",
      "ﺤرﻓوش: 1\n",
      "ﺤﻨﺎ: 1\n",
      "ﻓﺎرس: 1\n",
      "طﻨوس: 1\n",
      "ﺠروج: 1\n",
      "اﺒراﻫﻴم: 1\n",
      "اﷲ: 1\n",
      "ﺸﻤﻌون: 1\n",
      "اﻝﻴﺎس: 1\n",
      "وﻫﺒﻪ: 1\n",
      "اﻝﻨﺤﺎس: 1\n",
      "دﻜرﻤﻨﺠﻴﺎن: 1\n",
      "ﺤﻜﻴم: 1\n",
      "ﻨﺨﻠﻪ: 1\n",
      "ﻨﻬرة: 1\n",
      "ﻨﻘوﻻ: 1\n",
      "ﻴوﺴف: 1\n",
      "اﻝﺸﻴﺦ: 1\n",
      "اﻝزﻏﺒﻲ: 1\n",
      "ﻓﻬد: 1\n",
      "رودرﻴﻐز: 1\n"
     ]
    }
   ],
   "source": [
    "nom_counts = df['Nom'].value_counts()\n",
    "for nom, count in nom_counts.items():\n",
    "    print(f'{nom}: {count}')\n"
   ]
  },
  {
   "cell_type": "code",
   "execution_count": 105,
   "id": "a8dfb1ec-17f3-4efb-9972-eefe50b71abf",
   "metadata": {},
   "outputs": [
    {
     "data": {
      "text/plain": [
       "array(['ﻤﺎروﻨﻲ', 'روم ﻜﺎﺜوﻝﻴك', 'روم ارﺜوذﻜس', 'ﺴﻨﻲ', '--', 'ﻻﺘﻴﻨﻲ',\n",
       "       'ﺴرﻴﺎن ارﺜوذﻜس', 'ﺸﻴﻌﻲ', 'ارﻤن ارﺜوذﻜس', 'ﺴرﻴﺎن ﻜﺎﺜوﻝﻴك',\n",
       "       'اﻨﺠﻴﻠﻲ )ﺒروﺘﺴﺘﺎﻨت(', 'ﻜﻠدان ﻜﺎﺜوﻝﻴك', 'درزي', 'ﻨﺴطوري', 'ﻜﻠدان',\n",
       "       'اﺸوري'], dtype=object)"
      ]
     },
     "execution_count": 105,
     "metadata": {},
     "output_type": "execute_result"
    }
   ],
   "source": [
    " df2['اﻝﻤذﻫب'].unique()"
   ]
  },
  {
   "cell_type": "code",
   "execution_count": 108,
   "id": "09a08c54-ef95-47b8-a53b-9c1dc4607236",
   "metadata": {},
   "outputs": [
    {
     "data": {
      "image/png": "[encoded data removed]",
      "text/plain": [
       "<Figure size 800x400 with 1 Axes>"
      ]
     },
     "metadata": {},
     "output_type": "display_data"
    }
   ],
   "source": [
    "nom_counts = df['Nom'].value_counts()\n",
    "top_10_noms = nom_counts.head(15)\n",
    "top_10_noms.index = top_10_noms.index.str[::-1]\n",
    "plt.figure(figsize=(8, 4))\n",
    "top_10_noms.plot(kind='bar', color='blue')\n",
    "plt.xlabel('Nom', fontsize=12)\n",
    "plt.ylabel('Freq', fontsize=12)\n",
    "plt.xticks(rotation=30, ha='center')\n",
    "plt.tight_layout()\n",
    "plt.show()\n"
   ]
  },
  {
   "cell_type": "code",
   "execution_count": 98,
   "id": "d6d8961e-94a8-4dc4-b2e8-fc522de6054e",
   "metadata": {},
   "outputs": [
    {
     "name": "stdout",
     "output_type": "stream",
     "text": [
      "ﻤﻼﺤظﺎت              4\n",
      "رﻗم اﻝﻘﻴد          45\n",
      "اﻝﻤذﻫب             45\n",
      "ﺘﺎرﻴﺦ اﻝوﻻدة       45\n",
      "إﺴم اﻻم وﺸﻬرﺘﻬﺎ    45\n",
      "إﺴم اﻻب            45\n",
      "اﻻﺴم واﻝﺸﻬرة       45\n",
      "Prénom             45\n",
      "Nom                45\n",
      "date               45\n",
      "dtype: int64\n"
     ]
    }
   ],
   "source": [
    "count_nahra = df[df['Nom'].str.contains('ﻨﻬر')].count()\n",
    "print(count_nahra)"
   ]
  },
  {
   "cell_type": "code",
   "execution_count": 109,
   "id": "cbba7eff-1438-40e0-a93a-2b49f642b6bd",
   "metadata": {},
   "outputs": [
    {
     "name": "stdout",
     "output_type": "stream",
     "text": [
      "45\n"
     ]
    },
    {
     "data": {
      "image/png": "[encoded data removed]",
      "text/plain": [
       "<Figure size 800x800 with 1 Axes>"
      ]
     },
     "metadata": {},
     "output_type": "display_data"
    }
   ],
   "source": [
    "import matplotlib.pyplot as plt\n",
    "\n",
    "# Compter le nombre de personnes avec le nom \"ﻨﻬرﻩ\"\n",
    "count_nahra = df[df['Nom'].str.contains('ﻨﻬر')].shape[0]\n",
    "print(count_nahra)\n",
    "# Total de personnes dans votre DataFrame\n",
    "total_count = 139  # Remplacer par le total réel si nécessaire\n",
    "\n",
    "# Calculer la portion\n",
    "count_others = total_count - count_nahra\n",
    "\n",
    "# Données pour le pie chart\n",
    "labels = ['ﻨﻬرﻩ', 'Autres']\n",
    "sizes = [count_nahra, count_others]\n",
    "colors = ['#66b3ff', '#99ff99']\n",
    "\n",
    "# Tracer le pie chart\n",
    "plt.figure(figsize=(8, 8))\n",
    "plt.pie(sizes, labels=labels, autopct='%1.1f%%', startangle=90, colors=colors)\n",
    "\n",
    "# Ajouter un titre\n",
    "plt.title('Répartition des noms \"ﻨﻬرﻩ\" parmi un total de 139 personnes', fontsize=14)\n",
    "\n",
    "# Afficher le graphique\n",
    "plt.show()\n"
   ]
  },
  {
   "cell_type": "code",
   "execution_count": 73,
   "id": "dc0041a6-4f8a-44b9-a1f9-86905c5fecd8",
   "metadata": {},
   "outputs": [
    {
     "data": {
      "image/png": "[encoded data removed]",
      "text/plain": [
       "<Figure size 800x400 with 1 Axes>"
      ]
     },
     "metadata": {},
     "output_type": "display_data"
    }
   ],
   "source": [
    "nom_counts = df2['Nom'].value_counts()\n",
    "top_10_noms = nom_counts.head(15)\n",
    "top_10_noms.index = top_10_noms.index.str[::-1]\n",
    "plt.figure(figsize=(8, 4))\n",
    "top_10_noms.plot(kind='bar', color='blue')\n",
    "plt.xlabel('Nom', fontsize=12)\n",
    "plt.ylabel('Freq', fontsize=12)\n",
    "plt.xticks(rotation=30, ha='center')\n",
    "plt.tight_layout()\n",
    "plt.show()\n"
   ]
  },
  {
   "cell_type": "code",
   "execution_count": null,
   "id": "e141c7f7-1960-47ba-8208-f685d494ec85",
   "metadata": {},
   "outputs": [],
   "source": []
  }
 ],
 "metadata": {
  "kernelspec": {
   "display_name": "Python 3 (ipykernel)",
   "language": "python",
   "name": "python3"
  },
  "language_info": {
   "codemirror_mode": {
    "name": "ipython",
    "version": 3
   },
   "file_extension": ".py",
   "mimetype": "text/x-python",
   "name": "python",
   "nbconvert_exporter": "python",
   "pygments_lexer": "ipython3",
   "version": "3.12.9"
  }
 },
 "nbformat": 4,
 "nbformat_minor": 5
}
