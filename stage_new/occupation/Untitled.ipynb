{
 "cells": [
  {
   "cell_type": "code",
   "execution_count": 1,
   "id": "7844f235-84bf-43d3-9434-a115414db6bc",
   "metadata": {},
   "outputs": [],
   "source": [
    "import pandas as pd"
   ]
  },
  {
   "cell_type": "code",
   "execution_count": 33,
   "id": "b19e79ce-fcea-49ed-9aeb-f872a235e390",
   "metadata": {},
   "outputs": [],
   "source": [
    "df_107=pd.read_csv(\"Dataset_20240601-20250428/01Jul2024-28Avr2025_Salle_107.csv\")"
   ]
  },
  {
   "cell_type": "code",
   "execution_count": 25,
   "id": "7bf225c2-a108-485c-8de3-98a4c7b4d685",
   "metadata": {},
   "outputs": [],
   "source": [
    "df_107 = df_107.iloc[:-1, :]\n"
   ]
  },
  {
   "cell_type": "code",
   "execution_count": 34,
   "id": "0353e7d7-b538-4647-adaa-7161ee5d63f7",
   "metadata": {
    "scrolled": true
   },
   "outputs": [
    {
     "data": {
      "text/html": [
       "<div>\n",
       "<style scoped>\n",
       "    .dataframe tbody tr th:only-of-type {\n",
       "        vertical-align: middle;\n",
       "    }\n",
       "\n",
       "    .dataframe tbody tr th {\n",
       "        vertical-align: top;\n",
       "    }\n",
       "\n",
       "    .dataframe thead th {\n",
       "        text-align: right;\n",
       "    }\n",
       "</style>\n",
       "<table border=\"1\" class=\"dataframe\">\n",
       "  <thead>\n",
       "    <tr style=\"text-align: right;\">\n",
       "      <th></th>\n",
       "      <th>Timestamp</th>\n",
       "      <th>WATECO_1F0B_Presence_u6_107</th>\n",
       "      <th>RDFIR_9_Temperature_u6_107</th>\n",
       "      <th>WRF06_5_Humidity_u6_107</th>\n",
       "      <th>auto_4f3c_Co2_u6_107</th>\n",
       "      <th>S3000NOIS_11_Noise_u6_107</th>\n",
       "    </tr>\n",
       "  </thead>\n",
       "  <tbody>\n",
       "    <tr>\n",
       "      <th>0</th>\n",
       "      <td>01-Jun-2024 00:00:00</td>\n",
       "      <td>NaN</td>\n",
       "      <td>23.1</td>\n",
       "      <td>42.3</td>\n",
       "      <td>550.0</td>\n",
       "      <td>23.4</td>\n",
       "    </tr>\n",
       "    <tr>\n",
       "      <th>1</th>\n",
       "      <td>01-Jun-2024 00:10:00</td>\n",
       "      <td>NaN</td>\n",
       "      <td>23.1</td>\n",
       "      <td>42.4</td>\n",
       "      <td>544.0</td>\n",
       "      <td>23.4</td>\n",
       "    </tr>\n",
       "    <tr>\n",
       "      <th>2</th>\n",
       "      <td>01-Jun-2024 00:20:00</td>\n",
       "      <td>0.0</td>\n",
       "      <td>23.1</td>\n",
       "      <td>42.5</td>\n",
       "      <td>552.0</td>\n",
       "      <td>22.9</td>\n",
       "    </tr>\n",
       "    <tr>\n",
       "      <th>3</th>\n",
       "      <td>01-Jun-2024 00:30:00</td>\n",
       "      <td>0.0</td>\n",
       "      <td>23.1</td>\n",
       "      <td>42.7</td>\n",
       "      <td>551.0</td>\n",
       "      <td>22.9</td>\n",
       "    </tr>\n",
       "    <tr>\n",
       "      <th>4</th>\n",
       "      <td>01-Jun-2024 00:40:00</td>\n",
       "      <td>0.0</td>\n",
       "      <td>23.1</td>\n",
       "      <td>42.8</td>\n",
       "      <td>553.0</td>\n",
       "      <td>22.9</td>\n",
       "    </tr>\n",
       "    <tr>\n",
       "      <th>...</th>\n",
       "      <td>...</td>\n",
       "      <td>...</td>\n",
       "      <td>...</td>\n",
       "      <td>...</td>\n",
       "      <td>...</td>\n",
       "      <td>...</td>\n",
       "    </tr>\n",
       "    <tr>\n",
       "      <th>47630</th>\n",
       "      <td>27-Apr-2025 23:20:00</td>\n",
       "      <td>0.0</td>\n",
       "      <td>21.3</td>\n",
       "      <td>53.6</td>\n",
       "      <td>447.0</td>\n",
       "      <td>23.4</td>\n",
       "    </tr>\n",
       "    <tr>\n",
       "      <th>47631</th>\n",
       "      <td>27-Apr-2025 23:30:00</td>\n",
       "      <td>0.0</td>\n",
       "      <td>21.3</td>\n",
       "      <td>53.7</td>\n",
       "      <td>450.0</td>\n",
       "      <td>23.4</td>\n",
       "    </tr>\n",
       "    <tr>\n",
       "      <th>47632</th>\n",
       "      <td>27-Apr-2025 23:40:00</td>\n",
       "      <td>0.0</td>\n",
       "      <td>21.2</td>\n",
       "      <td>53.7</td>\n",
       "      <td>445.0</td>\n",
       "      <td>23.4</td>\n",
       "    </tr>\n",
       "    <tr>\n",
       "      <th>47633</th>\n",
       "      <td>27-Apr-2025 23:50:00</td>\n",
       "      <td>0.0</td>\n",
       "      <td>21.2</td>\n",
       "      <td>53.9</td>\n",
       "      <td>446.0</td>\n",
       "      <td>22.9</td>\n",
       "    </tr>\n",
       "    <tr>\n",
       "      <th>47634</th>\n",
       "      <td>28-Apr-2025 00:00:00</td>\n",
       "      <td>0.0</td>\n",
       "      <td>21.2</td>\n",
       "      <td>53.9</td>\n",
       "      <td>449.0</td>\n",
       "      <td>22.9</td>\n",
       "    </tr>\n",
       "  </tbody>\n",
       "</table>\n",
       "<p>47635 rows × 6 columns</p>\n",
       "</div>"
      ],
      "text/plain": [
       "                  Timestamp  WATECO_1F0B_Presence_u6_107  \\\n",
       "0      01-Jun-2024 00:00:00                          NaN   \n",
       "1      01-Jun-2024 00:10:00                          NaN   \n",
       "2      01-Jun-2024 00:20:00                          0.0   \n",
       "3      01-Jun-2024 00:30:00                          0.0   \n",
       "4      01-Jun-2024 00:40:00                          0.0   \n",
       "...                     ...                          ...   \n",
       "47630  27-Apr-2025 23:20:00                          0.0   \n",
       "47631  27-Apr-2025 23:30:00                          0.0   \n",
       "47632  27-Apr-2025 23:40:00                          0.0   \n",
       "47633  27-Apr-2025 23:50:00                          0.0   \n",
       "47634  28-Apr-2025 00:00:00                          0.0   \n",
       "\n",
       "       RDFIR_9_Temperature_u6_107  WRF06_5_Humidity_u6_107  \\\n",
       "0                            23.1                     42.3   \n",
       "1                            23.1                     42.4   \n",
       "2                            23.1                     42.5   \n",
       "3                            23.1                     42.7   \n",
       "4                            23.1                     42.8   \n",
       "...                           ...                      ...   \n",
       "47630                        21.3                     53.6   \n",
       "47631                        21.3                     53.7   \n",
       "47632                        21.2                     53.7   \n",
       "47633                        21.2                     53.9   \n",
       "47634                        21.2                     53.9   \n",
       "\n",
       "       auto_4f3c_Co2_u6_107  S3000NOIS_11_Noise_u6_107  \n",
       "0                     550.0                       23.4  \n",
       "1                     544.0                       23.4  \n",
       "2                     552.0                       22.9  \n",
       "3                     551.0                       22.9  \n",
       "4                     553.0                       22.9  \n",
       "...                     ...                        ...  \n",
       "47630                 447.0                       23.4  \n",
       "47631                 450.0                       23.4  \n",
       "47632                 445.0                       23.4  \n",
       "47633                 446.0                       22.9  \n",
       "47634                 449.0                       22.9  \n",
       "\n",
       "[47635 rows x 6 columns]"
      ]
     },
     "execution_count": 34,
     "metadata": {},
     "output_type": "execute_result"
    }
   ],
   "source": [
    "df_107"
   ]
  },
  {
   "cell_type": "code",
   "execution_count": 35,
   "id": "83a3d890-4857-4387-b5b1-1c609eeeac9f",
   "metadata": {},
   "outputs": [
    {
     "data": {
      "text/plain": [
       "330"
      ]
     },
     "execution_count": 35,
     "metadata": {},
     "output_type": "execute_result"
    }
   ],
   "source": [
    "len(temp) // 144\n"
   ]
  },
  {
   "cell_type": "code",
   "execution_count": 48,
   "id": "ace94481-dccb-4081-8d42-c90519fa68c2",
   "metadata": {},
   "outputs": [],
   "source": [
    "temp = df_107[['RDFIR_9_Temperature_u6_107']]\n",
    "n_days = len(temp) // 144\n",
    "temp_clean = temp.iloc[:n_days * 144]  # on coupe les valeurs en trop\n",
    "reshaped = temp_clean.to_numpy().reshape(n_days, 144)\n",
    "df_temp = pd.DataFrame(reshaped)\n",
    "\n",
    "\n",
    "Hum = df_107[['WRF06_5_Humidity_u6_107']]\n",
    "n_days = len(Hum) // 144\n",
    "Hum_clean = Hum.iloc[:n_days * 144]  # on coupe les valeurs en trop\n",
    "reshaped = Hum_clean.to_numpy().reshape(n_days, 144)\n",
    "df_hum = pd.DataFrame(reshaped)\n",
    "\n",
    "Co2 = df_107[['auto_4f3c_Co2_u6_107']]\n",
    "n_days = len(Co2) // 144\n",
    "Co2_clean = Co2.iloc[:n_days * 144]  # on coupe les valeurs en trop\n",
    "reshaped = Co2_clean.to_numpy().reshape(n_days, 144)\n",
    "df_co2 = pd.DataFrame(reshaped)\n",
    "\n",
    "Noise = df_107[['S3000NOIS_11_Noise_u6_107']]\n",
    "n_days = len(Noise) // 144\n",
    "Noise_clean = Noise.iloc[:n_days * 144]  # on coupe les valeurs en trop\n",
    "reshaped = Noise_clean.to_numpy().reshape(n_days, 144)\n",
    "df_Noise = pd.DataFrame(reshaped)\n",
    "\n",
    "Occ = df_107[['WATECO_1F0B_Presence_u6_107']]\n",
    "n_days = len(Occ) // 144\n",
    "Occ_clean = Occ.iloc[:n_days * 144]  # on coupe les valeurs en trop\n",
    "reshaped = Occ_clean.to_numpy().reshape(n_days, 144)\n",
    "df_Occ = pd.DataFrame(reshaped)"
   ]
  },
  {
   "cell_type": "code",
   "execution_count": 60,
   "id": "af642847-9b00-4962-8a9f-43158d32e650",
   "metadata": {},
   "outputs": [],
   "source": [
    "for df in [df_temp, df_hum, df_co2, df_Noise]:\n",
    "    df.interpolate(method='linear', axis=1, limit_direction='both', inplace=True)\n",
    "    df.ffill(axis=1, inplace=True)\n",
    "    df.bfill(axis=1, inplace=True)\n",
    "    \n",
    "for df in [df_temp, df_hum, df_co2, df_Noise]:\n",
    "    df.dropna(how='all', inplace=True)\n"
   ]
  },
  {
   "cell_type": "code",
   "execution_count": 64,
   "id": "609e1f5c-55da-44f0-af74-178a45ec8e07",
   "metadata": {},
   "outputs": [
    {
     "data": {
      "text/plain": [
       "0"
      ]
     },
     "execution_count": 64,
     "metadata": {},
     "output_type": "execute_result"
    }
   ],
   "source": [
    "df_Occ.isna().sum().sum()"
   ]
  },
  {
   "cell_type": "code",
   "execution_count": 63,
   "id": "21d8a746-0c41-4dfb-8b1c-a94dcc7909d9",
   "metadata": {},
   "outputs": [],
   "source": [
    "df_Occ.fillna(0, inplace=True)\n"
   ]
  },
  {
   "cell_type": "code",
   "execution_count": 99,
   "id": "6b720355-9450-4f8e-be73-a6d63e946737",
   "metadata": {},
   "outputs": [],
   "source": [
    "from tensorflow.keras.models import Sequential\n",
    "from tensorflow.keras.layers import LSTM, Dense, TimeDistributed\n",
    "from sklearn.model_selection import train_test_split\n",
    "import numpy as np\n",
    "\n",
    "def train_lstm_model(X, Y, input_shape, test_size=0.2, epochs=20, batch_size=16, threshold=0.5):\n",
    "   \n",
    "\n",
    "    # Split\n",
    "    X_train, X_test, Y_train, Y_test = train_test_split(\n",
    "        X, Y, test_size=test_size, random_state=42, shuffle=True\n",
    "    )\n",
    "\n",
    "    # Modèle\n",
    "    model = Sequential([\n",
    "        LSTM(50, activation='tanh', return_sequences=True, input_shape=input_shape),\n",
    "        TimeDistributed(Dense(1, activation='sigmoid'))\n",
    "    ])\n",
    "    model.compile(optimizer='adam', loss='binary_crossentropy', metrics=['accuracy'])\n",
    "\n",
    "    # Entraînement\n",
    "    history = model.fit(\n",
    "        X_train, Y_train,\n",
    "        epochs=epochs,\n",
    "        batch_size=batch_size,\n",
    "        validation_data=(X_test, Y_test),\n",
    "        verbose=1\n",
    "    )\n",
    "\n",
    "    # Prédictions\n",
    "    pred_probs = model.predict(X_test)\n",
    "    pred_binary = (pred_probs > threshold).astype(int)\n",
    "\n",
    "    \n"
   ]
  },
  {
   "cell_type": "code",
   "execution_count": 100,
   "id": "70d38cf0-85a5-4253-8734-e62ee1a3a331",
   "metadata": {
    "scrolled": true
   },
   "outputs": [
    {
     "name": "stdout",
     "output_type": "stream",
     "text": [
      "Epoch 1/20\n",
      "\u001b[1m17/17\u001b[0m \u001b[32m━━━━━━━━━━━━━━━━━━━━\u001b[0m\u001b[37m\u001b[0m \u001b[1m9s\u001b[0m 155ms/step - accuracy: 0.2184 - loss: 1.0498 - val_accuracy: 0.7079 - val_loss: 0.6534\n",
      "Epoch 2/20\n",
      "\u001b[1m17/17\u001b[0m \u001b[32m━━━━━━━━━━━━━━━━━━━━\u001b[0m\u001b[37m\u001b[0m \u001b[1m1s\u001b[0m 87ms/step - accuracy: 0.7726 - loss: 0.5883 - val_accuracy: 0.8208 - val_loss: 0.4771\n",
      "Epoch 3/20\n",
      "\u001b[1m17/17\u001b[0m \u001b[32m━━━━━━━━━━━━━━━━━━━━\u001b[0m\u001b[37m\u001b[0m \u001b[1m2s\u001b[0m 89ms/step - accuracy: 0.7890 - loss: 0.5216 - val_accuracy: 0.8208 - val_loss: 0.4743\n",
      "Epoch 4/20\n",
      "\u001b[1m17/17\u001b[0m \u001b[32m━━━━━━━━━━━━━━━━━━━━\u001b[0m\u001b[37m\u001b[0m \u001b[1m1s\u001b[0m 80ms/step - accuracy: 0.7866 - loss: 0.5168 - val_accuracy: 0.8208 - val_loss: 0.4796\n",
      "Epoch 5/20\n",
      "\u001b[1m17/17\u001b[0m \u001b[32m━━━━━━━━━━━━━━━━━━━━\u001b[0m\u001b[37m\u001b[0m \u001b[1m2s\u001b[0m 92ms/step - accuracy: 0.7842 - loss: 0.5148 - val_accuracy: 0.8208 - val_loss: 0.4741\n",
      "Epoch 6/20\n",
      "\u001b[1m17/17\u001b[0m \u001b[32m━━━━━━━━━━━━━━━━━━━━\u001b[0m\u001b[37m\u001b[0m \u001b[1m1s\u001b[0m 68ms/step - accuracy: 0.7766 - loss: 0.5251 - val_accuracy: 0.8208 - val_loss: 0.4733\n",
      "Epoch 7/20\n",
      "\u001b[1m17/17\u001b[0m \u001b[32m━━━━━━━━━━━━━━━━━━━━\u001b[0m\u001b[37m\u001b[0m \u001b[1m1s\u001b[0m 79ms/step - accuracy: 0.7683 - loss: 0.5372 - val_accuracy: 0.8208 - val_loss: 0.4727\n",
      "Epoch 8/20\n",
      "\u001b[1m17/17\u001b[0m \u001b[32m━━━━━━━━━━━━━━━━━━━━\u001b[0m\u001b[37m\u001b[0m \u001b[1m1s\u001b[0m 66ms/step - accuracy: 0.7883 - loss: 0.5089 - val_accuracy: 0.8208 - val_loss: 0.4725\n",
      "Epoch 9/20\n",
      "\u001b[1m17/17\u001b[0m \u001b[32m━━━━━━━━━━━━━━━━━━━━\u001b[0m\u001b[37m\u001b[0m \u001b[1m1s\u001b[0m 69ms/step - accuracy: 0.7918 - loss: 0.5049 - val_accuracy: 0.8208 - val_loss: 0.4709\n",
      "Epoch 10/20\n",
      "\u001b[1m17/17\u001b[0m \u001b[32m━━━━━━━━━━━━━━━━━━━━\u001b[0m\u001b[37m\u001b[0m \u001b[1m1s\u001b[0m 82ms/step - accuracy: 0.7809 - loss: 0.5138 - val_accuracy: 0.8208 - val_loss: 0.4728\n",
      "Epoch 11/20\n",
      "\u001b[1m17/17\u001b[0m \u001b[32m━━━━━━━━━━━━━━━━━━━━\u001b[0m\u001b[37m\u001b[0m \u001b[1m1s\u001b[0m 57ms/step - accuracy: 0.7819 - loss: 0.5097 - val_accuracy: 0.8208 - val_loss: 0.4685\n",
      "Epoch 12/20\n",
      "\u001b[1m17/17\u001b[0m \u001b[32m━━━━━━━━━━━━━━━━━━━━\u001b[0m\u001b[37m\u001b[0m \u001b[1m1s\u001b[0m 70ms/step - accuracy: 0.7614 - loss: 0.5366 - val_accuracy: 0.8208 - val_loss: 0.4699\n",
      "Epoch 13/20\n",
      "\u001b[1m17/17\u001b[0m \u001b[32m━━━━━━━━━━━━━━━━━━━━\u001b[0m\u001b[37m\u001b[0m \u001b[1m1s\u001b[0m 88ms/step - accuracy: 0.7807 - loss: 0.5120 - val_accuracy: 0.8208 - val_loss: 0.4679\n",
      "Epoch 14/20\n",
      "\u001b[1m17/17\u001b[0m \u001b[32m━━━━━━━━━━━━━━━━━━━━\u001b[0m\u001b[37m\u001b[0m \u001b[1m1s\u001b[0m 72ms/step - accuracy: 0.7870 - loss: 0.5079 - val_accuracy: 0.8208 - val_loss: 0.4685\n",
      "Epoch 15/20\n",
      "\u001b[1m17/17\u001b[0m \u001b[32m━━━━━━━━━━━━━━━━━━━━\u001b[0m\u001b[37m\u001b[0m \u001b[1m1s\u001b[0m 64ms/step - accuracy: 0.7819 - loss: 0.5121 - val_accuracy: 0.8208 - val_loss: 0.4666\n",
      "Epoch 16/20\n",
      "\u001b[1m17/17\u001b[0m \u001b[32m━━━━━━━━━━━━━━━━━━━━\u001b[0m\u001b[37m\u001b[0m \u001b[1m1s\u001b[0m 68ms/step - accuracy: 0.7808 - loss: 0.5074 - val_accuracy: 0.8208 - val_loss: 0.4678\n",
      "Epoch 17/20\n",
      "\u001b[1m17/17\u001b[0m \u001b[32m━━━━━━━━━━━━━━━━━━━━\u001b[0m\u001b[37m\u001b[0m \u001b[1m1s\u001b[0m 60ms/step - accuracy: 0.7687 - loss: 0.5225 - val_accuracy: 0.8208 - val_loss: 0.4626\n",
      "Epoch 18/20\n",
      "\u001b[1m17/17\u001b[0m \u001b[32m━━━━━━━━━━━━━━━━━━━━\u001b[0m\u001b[37m\u001b[0m \u001b[1m1s\u001b[0m 70ms/step - accuracy: 0.7779 - loss: 0.5093 - val_accuracy: 0.8208 - val_loss: 0.4628\n",
      "Epoch 19/20\n",
      "\u001b[1m17/17\u001b[0m \u001b[32m━━━━━━━━━━━━━━━━━━━━\u001b[0m\u001b[37m\u001b[0m \u001b[1m1s\u001b[0m 77ms/step - accuracy: 0.7833 - loss: 0.5024 - val_accuracy: 0.8208 - val_loss: 0.4617\n",
      "Epoch 20/20\n",
      "\u001b[1m17/17\u001b[0m \u001b[32m━━━━━━━━━━━━━━━━━━━━\u001b[0m\u001b[37m\u001b[0m \u001b[1m2s\u001b[0m 89ms/step - accuracy: 0.7794 - loss: 0.5040 - val_accuracy: 0.8208 - val_loss: 0.4523\n",
      "\u001b[1m3/3\u001b[0m \u001b[32m━━━━━━━━━━━━━━━━━━━━\u001b[0m\u001b[37m\u001b[0m \u001b[1m2s\u001b[0m 566ms/step\n"
     ]
    }
   ],
   "source": [
    "df_combined = pd.concat([df_temp, df_Occ], axis=1, join='inner')\n",
    "\n",
    "X = df_combined.iloc[:, :144].to_numpy().reshape((-1, 144, 1))\n",
    "\n",
    "Y = df_combined.iloc[:, -144:].to_numpy()\n",
    "\n",
    "train_lstm_model(\n",
    "    X,\n",
    "    Y,\n",
    "    input_shape=(144, 1)\n",
    ")\n"
   ]
  },
  {
   "cell_type": "code",
   "execution_count": 106,
   "id": "74b18a54-7fc0-4fed-adb6-79a93768e008",
   "metadata": {},
   "outputs": [
    {
     "name": "stdout",
     "output_type": "stream",
     "text": [
      "Epoch 1/20\n",
      "\u001b[1m17/17\u001b[0m \u001b[32m━━━━━━━━━━━━━━━━━━━━\u001b[0m\u001b[37m\u001b[0m \u001b[1m8s\u001b[0m 150ms/step - accuracy: 0.3364 - loss: 0.9729 - val_accuracy: 0.8293 - val_loss: 0.4116\n",
      "Epoch 2/20\n",
      "\u001b[1m17/17\u001b[0m \u001b[32m━━━━━━━━━━━━━━━━━━━━\u001b[0m\u001b[37m\u001b[0m \u001b[1m1s\u001b[0m 75ms/step - accuracy: 0.7932 - loss: 0.4267 - val_accuracy: 0.8411 - val_loss: 0.3146\n",
      "Epoch 3/20\n",
      "\u001b[1m17/17\u001b[0m \u001b[32m━━━━━━━━━━━━━━━━━━━━\u001b[0m\u001b[37m\u001b[0m \u001b[1m1s\u001b[0m 80ms/step - accuracy: 0.8148 - loss: 0.3724 - val_accuracy: 0.8884 - val_loss: 0.2648\n",
      "Epoch 4/20\n",
      "\u001b[1m17/17\u001b[0m \u001b[32m━━━━━━━━━━━━━━━━━━━━\u001b[0m\u001b[37m\u001b[0m \u001b[1m1s\u001b[0m 69ms/step - accuracy: 0.8701 - loss: 0.3097 - val_accuracy: 0.9188 - val_loss: 0.2319\n",
      "Epoch 5/20\n",
      "\u001b[1m17/17\u001b[0m \u001b[32m━━━━━━━━━━━━━━━━━━━━\u001b[0m\u001b[37m\u001b[0m \u001b[1m1s\u001b[0m 75ms/step - accuracy: 0.8890 - loss: 0.3050 - val_accuracy: 0.9296 - val_loss: 0.2080\n",
      "Epoch 6/20\n",
      "\u001b[1m17/17\u001b[0m \u001b[32m━━━━━━━━━━━━━━━━━━━━\u001b[0m\u001b[37m\u001b[0m \u001b[1m1s\u001b[0m 60ms/step - accuracy: 0.8958 - loss: 0.2870 - val_accuracy: 0.9290 - val_loss: 0.1965\n",
      "Epoch 7/20\n",
      "\u001b[1m17/17\u001b[0m \u001b[32m━━━━━━━━━━━━━━━━━━━━\u001b[0m\u001b[37m\u001b[0m \u001b[1m1s\u001b[0m 64ms/step - accuracy: 0.9084 - loss: 0.2585 - val_accuracy: 0.9336 - val_loss: 0.1851\n",
      "Epoch 8/20\n",
      "\u001b[1m17/17\u001b[0m \u001b[32m━━━━━━━━━━━━━━━━━━━━\u001b[0m\u001b[37m\u001b[0m \u001b[1m1s\u001b[0m 63ms/step - accuracy: 0.9141 - loss: 0.2418 - val_accuracy: 0.9441 - val_loss: 0.1809\n",
      "Epoch 9/20\n",
      "\u001b[1m17/17\u001b[0m \u001b[32m━━━━━━━━━━━━━━━━━━━━\u001b[0m\u001b[37m\u001b[0m \u001b[1m1s\u001b[0m 55ms/step - accuracy: 0.9128 - loss: 0.2432 - val_accuracy: 0.9436 - val_loss: 0.1745\n",
      "Epoch 10/20\n",
      "\u001b[1m17/17\u001b[0m \u001b[32m━━━━━━━━━━━━━━━━━━━━\u001b[0m\u001b[37m\u001b[0m \u001b[1m1s\u001b[0m 53ms/step - accuracy: 0.9182 - loss: 0.2290 - val_accuracy: 0.9453 - val_loss: 0.1700\n",
      "Epoch 11/20\n",
      "\u001b[1m17/17\u001b[0m \u001b[32m━━━━━━━━━━━━━━━━━━━━\u001b[0m\u001b[37m\u001b[0m \u001b[1m1s\u001b[0m 69ms/step - accuracy: 0.9226 - loss: 0.2179 - val_accuracy: 0.9426 - val_loss: 0.1750\n",
      "Epoch 12/20\n",
      "\u001b[1m17/17\u001b[0m \u001b[32m━━━━━━━━━━━━━━━━━━━━\u001b[0m\u001b[37m\u001b[0m \u001b[1m2s\u001b[0m 91ms/step - accuracy: 0.9150 - loss: 0.2359 - val_accuracy: 0.9432 - val_loss: 0.1655\n",
      "Epoch 13/20\n",
      "\u001b[1m17/17\u001b[0m \u001b[32m━━━━━━━━━━━━━━━━━━━━\u001b[0m\u001b[37m\u001b[0m \u001b[1m1s\u001b[0m 59ms/step - accuracy: 0.9139 - loss: 0.2307 - val_accuracy: 0.9456 - val_loss: 0.1650\n",
      "Epoch 14/20\n",
      "\u001b[1m17/17\u001b[0m \u001b[32m━━━━━━━━━━━━━━━━━━━━\u001b[0m\u001b[37m\u001b[0m \u001b[1m1s\u001b[0m 61ms/step - accuracy: 0.9265 - loss: 0.2053 - val_accuracy: 0.9449 - val_loss: 0.1631\n",
      "Epoch 15/20\n",
      "\u001b[1m17/17\u001b[0m \u001b[32m━━━━━━━━━━━━━━━━━━━━\u001b[0m\u001b[37m\u001b[0m \u001b[1m1s\u001b[0m 80ms/step - accuracy: 0.9218 - loss: 0.2152 - val_accuracy: 0.9448 - val_loss: 0.1612\n",
      "Epoch 16/20\n",
      "\u001b[1m17/17\u001b[0m \u001b[32m━━━━━━━━━━━━━━━━━━━━\u001b[0m\u001b[37m\u001b[0m \u001b[1m1s\u001b[0m 64ms/step - accuracy: 0.9287 - loss: 0.2026 - val_accuracy: 0.9458 - val_loss: 0.1581\n",
      "Epoch 17/20\n",
      "\u001b[1m17/17\u001b[0m \u001b[32m━━━━━━━━━━━━━━━━━━━━\u001b[0m\u001b[37m\u001b[0m \u001b[1m1s\u001b[0m 70ms/step - accuracy: 0.9172 - loss: 0.2236 - val_accuracy: 0.9437 - val_loss: 0.1602\n",
      "Epoch 18/20\n",
      "\u001b[1m17/17\u001b[0m \u001b[32m━━━━━━━━━━━━━━━━━━━━\u001b[0m\u001b[37m\u001b[0m \u001b[1m1s\u001b[0m 68ms/step - accuracy: 0.9213 - loss: 0.2187 - val_accuracy: 0.9460 - val_loss: 0.1573\n",
      "Epoch 19/20\n",
      "\u001b[1m17/17\u001b[0m \u001b[32m━━━━━━━━━━━━━━━━━━━━\u001b[0m\u001b[37m\u001b[0m \u001b[1m1s\u001b[0m 77ms/step - accuracy: 0.9152 - loss: 0.2305 - val_accuracy: 0.9459 - val_loss: 0.1594\n",
      "Epoch 20/20\n",
      "\u001b[1m17/17\u001b[0m \u001b[32m━━━━━━━━━━━━━━━━━━━━\u001b[0m\u001b[37m\u001b[0m \u001b[1m1s\u001b[0m 68ms/step - accuracy: 0.9241 - loss: 0.2140 - val_accuracy: 0.9455 - val_loss: 0.1575\n",
      "\u001b[1m3/3\u001b[0m \u001b[32m━━━━━━━━━━━━━━━━━━━━\u001b[0m\u001b[37m\u001b[0m \u001b[1m2s\u001b[0m 611ms/step\n"
     ]
    }
   ],
   "source": [
    "df_combined = pd.concat([df_temp,df_Noise, df_Occ], axis=1, join='inner')\n",
    "\n",
    "temp = df_combined.iloc[:, 0:144].to_numpy()      \n",
    "noise = df_combined.iloc[:, 144:288].to_numpy()  \n",
    "X = np.stack((temp, noise), axis=2)  \n",
    "\n",
    "Y = df_combined.iloc[:, -144:].to_numpy()\n",
    "\n",
    "train_lstm_model(\n",
    "    X,\n",
    "    Y,\n",
    "    input_shape=(144, 2)\n",
    ")\n"
   ]
  },
  {
   "cell_type": "code",
   "execution_count": 107,
   "id": "5845fe54-5296-4419-919e-9b72f5b54607",
   "metadata": {},
   "outputs": [
    {
     "data": {
      "text/plain": [
       "array([[23.1, 23.1, 23.1, ..., 23. , 22.9, 22.9],\n",
       "       [22.9, 22.9, 22.8, ..., 23.1, 23.1, 23.1],\n",
       "       [23.1, 23. , 23. , ..., 23.5, 23.4, 23.4],\n",
       "       ...,\n",
       "       [21. , 21. , 20.9, ..., 20.9, 20.9, 20.9],\n",
       "       [20.9, 20.9, 20.9, ..., 21.4, 21.3, 21.3],\n",
       "       [21.3, 21.3, 21.3, ..., 20.8, 20.9, 20.8]])"
      ]
     },
     "execution_count": 107,
     "metadata": {},
     "output_type": "execute_result"
    }
   ],
   "source": [
    "temp"
   ]
  },
  {
   "cell_type": "code",
   "execution_count": 108,
   "id": "e602c1ec-4ef8-4ebb-aef2-033171bc043c",
   "metadata": {},
   "outputs": [
    {
     "data": {
      "text/plain": [
       "array([[[23.1, 23.4],\n",
       "        [23.1, 23.4],\n",
       "        [23.1, 22.9],\n",
       "        ...,\n",
       "        [23. , 24. ],\n",
       "        [22.9, 24. ],\n",
       "        [22.9, 24. ]],\n",
       "\n",
       "       [[22.9, 24. ],\n",
       "        [22.9, 24. ],\n",
       "        [22.8, 24. ],\n",
       "        ...,\n",
       "        [23.1, 23.4],\n",
       "        [23.1, 23.4],\n",
       "        [23.1, 23.4]],\n",
       "\n",
       "       [[23.1, 25. ],\n",
       "        [23. , 25. ],\n",
       "        [23. , 25. ],\n",
       "        ...,\n",
       "        [23.5, 22.9],\n",
       "        [23.4, 23.4],\n",
       "        [23.4, 23.4]],\n",
       "\n",
       "       ...,\n",
       "\n",
       "       [[21. , 23.4],\n",
       "        [21. , 24.5],\n",
       "        [20.9, 23.4],\n",
       "        ...,\n",
       "        [20.9, 23.4],\n",
       "        [20.9, 23.4],\n",
       "        [20.9, 24. ]],\n",
       "\n",
       "       [[20.9, 25. ],\n",
       "        [20.9, 23.4],\n",
       "        [20.9, 24. ],\n",
       "        ...,\n",
       "        [21.4, 23.4],\n",
       "        [21.3, 23.4],\n",
       "        [21.3, 23.4]],\n",
       "\n",
       "       [[21.3, 22.9],\n",
       "        [21.3, 23.4],\n",
       "        [21.3, 23.4],\n",
       "        ...,\n",
       "        [20.8, 24. ],\n",
       "        [20.9, 23.4],\n",
       "        [20.8, 24. ]]])"
      ]
     },
     "execution_count": 108,
     "metadata": {},
     "output_type": "execute_result"
    }
   ],
   "source": [
    "X"
   ]
  },
  {
   "cell_type": "code",
   "execution_count": null,
   "id": "38d34a8a-7156-41c4-bad8-d3c01626f3e6",
   "metadata": {},
   "outputs": [],
   "source": []
  }
 ],
 "metadata": {
  "kernelspec": {
   "display_name": "Python 3 (ipykernel)",
   "language": "python",
   "name": "python3"
  },
  "language_info": {
   "codemirror_mode": {
    "name": "ipython",
    "version": 3
   },
   "file_extension": ".py",
   "mimetype": "text/x-python",
   "name": "python",
   "nbconvert_exporter": "python",
   "pygments_lexer": "ipython3",
   "version": "3.9.19"
  }
 },
 "nbformat": 4,
 "nbformat_minor": 5
}
