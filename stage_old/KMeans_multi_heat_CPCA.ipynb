{
 "cells": [
  {
   "cell_type": "code",
   "execution_count": 1,
   "id": "e95d1063-4f5f-452f-934b-42496d156e87",
   "metadata": {},
   "outputs": [],
   "source": [
    "import pandas as pd\n",
    "import numpy as np\n",
    "from tslearn.preprocessing import TimeSeriesScalerMeanVariance\n",
    "from sklearn.cluster import KMeans\n",
    "import matplotlib.pyplot as plt\n",
    "from sklearn.metrics import silhouette_score\n",
    "from sklearn.metrics import davies_bouldin_score\n",
    "\n"
   ]
  },
  {
   "cell_type": "code",
   "execution_count": 2,
   "id": "2dea2bbe-e64c-4777-ab35-c7371de302b5",
   "metadata": {},
   "outputs": [
    {
     "name": "stdout",
     "output_type": "stream",
     "text": [
      "     5.2000  4.2000  4.4000  3.3000  1.7000  2.8000  1.9000  1.9000.1  2.0000  \\\n",
      "0       0.9     1.4     1.6     0.8    -0.4    -1.1    -1.2      -0.7    -0.7   \n",
      "1       0.8     0.9     0.9     1.1     1.3     1.3     0.1      -0.6     1.9   \n",
      "2       0.5     0.2     0.1     0.6     0.3    -0.4    -0.4       0.1     0.8   \n",
      "3       1.9     1.7     1.3     1.5     1.5     1.3     1.0       0.9     1.1   \n",
      "4       1.4     1.5     1.5     1.5     1.4     1.5     1.5       1.4     1.7   \n",
      "..      ...     ...     ...     ...     ...     ...     ...       ...     ...   \n",
      "722     7.1     7.2     7.6    10.5    11.7     8.5     7.7       8.0    11.0   \n",
      "723     8.1     7.8     6.9     7.0     5.8     7.8     6.5       7.5     9.1   \n",
      "724    10.9    11.0    10.7    10.9    10.9    10.6    10.5      10.7    11.0   \n",
      "725     6.5     6.9     6.3     5.8     4.9     4.8     4.0       5.1     7.3   \n",
      "726     9.3     8.9     8.7     8.7     9.2     9.1    10.3       9.1     9.8   \n",
      "\n",
      "     2.3000  ...  0.0000.15  0.0000.16  0.0000.17  0.0000.18  0.0000.19  \\\n",
      "0      -0.1  ...      0.000      0.000      0.000        0.0        0.0   \n",
      "1       3.6  ...      0.000      0.000      0.000        0.0        0.0   \n",
      "2       2.4  ...      0.109      0.318      0.001        0.0        0.0   \n",
      "3       1.6  ...      0.823      0.808      0.264        0.0        0.0   \n",
      "4       2.2  ...      0.120      0.328      0.070        0.0        0.0   \n",
      "..      ...  ...        ...        ...        ...        ...        ...   \n",
      "722    12.6  ...      0.000      0.000      0.000        0.0        0.0   \n",
      "723    11.9  ...      0.000      0.000      0.000        0.0        0.0   \n",
      "724    11.2  ...      0.000      0.000      0.000        0.0        0.0   \n",
      "725     9.5  ...      0.000      0.000      0.000        0.0        0.0   \n",
      "726    11.2  ...      0.000      0.000      0.000        0.0        0.0   \n",
      "\n",
      "     0.0000.20  0.0000.21  0.0000.22  0.0000.23       date  \n",
      "0          0.0        0.0        0.0        0.0 2021-01-01  \n",
      "1          0.0        0.0        0.0        0.0 2021-01-02  \n",
      "2          0.0        0.0        0.0        0.0 2021-01-03  \n",
      "3          0.0        0.0        0.0        0.0 2021-01-04  \n",
      "4          0.0        0.0        0.0        0.0 2021-01-05  \n",
      "..         ...        ...        ...        ...        ...  \n",
      "722        0.0        0.0        0.0        0.0 2022-12-24  \n",
      "723        0.0        0.0        0.0        0.0 2022-12-25  \n",
      "724        0.0        0.0        0.0        0.0 2022-12-26  \n",
      "725        0.0        0.0        0.0        0.0 2022-12-27  \n",
      "726        0.0        0.0        0.0        0.0 2022-12-28  \n",
      "\n",
      "[727 rows x 73 columns]\n"
     ]
    }
   ],
   "source": [
    "df_temp_out = pd.read_csv('outdoor_temperature.csv')  \n",
    "df_temp_in = pd.read_csv('indoor_temperature.csv')  \n",
    "df_heat = pd.read_csv('heating_consumption.csv')  \n",
    "\n",
    "df_combined = pd.concat([df_temp_out, df_temp_in, df_heat], axis=1)  \n",
    "date_range = pd.date_range(start='2021-01-01', end='2022-12-28', freq='D')\n",
    "df_combined['date'] = date_range\n",
    "print(df_combined)"
   ]
  },
  {
   "cell_type": "code",
   "execution_count": 3,
   "id": "b1ec2295-8a80-40a3-8ec5-c2187d9e2c4d",
   "metadata": {},
   "outputs": [
    {
     "name": "stdout",
     "output_type": "stream",
     "text": [
      "     5.2000  4.2000  4.4000  3.3000  1.7000  2.8000  1.9000  1.9000.1  2.0000  \\\n",
      "0       0.5     0.2     0.1     0.6     0.3    -0.4    -0.4       0.1     0.8   \n",
      "1       1.9     1.7     1.3     1.5     1.5     1.3     1.0       0.9     1.1   \n",
      "2       1.4     1.5     1.5     1.5     1.4     1.5     1.5       1.4     1.7   \n",
      "3      -3.0    -3.0    -3.4    -3.7    -4.7    -4.6    -4.6      -4.6    -3.0   \n",
      "4      -3.6    -4.2    -3.8    -4.8    -4.8    -5.0    -5.1      -4.9    -2.4   \n",
      "..      ...     ...     ...     ...     ...     ...     ...       ...     ...   \n",
      "240    12.1    12.1    12.3    12.3    12.4    12.2    12.3      12.4    12.8   \n",
      "241    12.6    12.2    12.0    12.6    12.7    12.6    12.9      13.1    13.3   \n",
      "242    12.3    11.9    11.9    11.1    10.8    10.5    10.3      10.5    11.0   \n",
      "243    10.8    10.6    11.1     9.3     9.0     7.9     8.6       9.0    10.6   \n",
      "244    12.2    10.8    10.6    10.2     9.5     9.3     8.9       8.9    10.8   \n",
      "\n",
      "     2.3000  ...  0.0000.15  0.0000.16  0.0000.17  0.0000.18  0.0000.19  \\\n",
      "0       2.4  ...      0.109      0.318      0.001        0.0        0.0   \n",
      "1       1.6  ...      0.823      0.808      0.264        0.0        0.0   \n",
      "2       2.2  ...      0.120      0.328      0.070        0.0        0.0   \n",
      "3      -2.1  ...      0.637      0.732      0.063        0.0        0.0   \n",
      "4       0.1  ...      0.286      0.269      0.330        0.0        0.0   \n",
      "..      ...  ...        ...        ...        ...        ...        ...   \n",
      "240    14.9  ...      0.000      0.000      0.000        0.0        0.0   \n",
      "241    13.8  ...      0.000      0.000      0.000        0.0        0.0   \n",
      "242    13.0  ...      0.000      0.000      0.000        0.0        0.0   \n",
      "243    13.0  ...      0.000      0.007      0.007        0.0        0.0   \n",
      "244    13.2  ...      0.000      0.000      0.000        0.0        0.0   \n",
      "\n",
      "     0.0000.20  0.0000.21  0.0000.22  0.0000.23       date  \n",
      "0          0.0        0.0        0.0        0.0 2021-01-03  \n",
      "1          0.0        0.0        0.0        0.0 2021-01-04  \n",
      "2          0.0        0.0        0.0        0.0 2021-01-05  \n",
      "3          0.0        0.0        0.0        0.0 2021-01-06  \n",
      "4          0.0        0.0        0.0        0.0 2021-01-07  \n",
      "..         ...        ...        ...        ...        ...  \n",
      "240        0.0        0.0        0.0        0.0 2022-12-18  \n",
      "241        0.0        0.0        0.0        0.0 2022-12-19  \n",
      "242        0.0        0.0        0.0        0.0 2022-12-20  \n",
      "243        0.0        0.0        0.0        0.0 2022-12-21  \n",
      "244        0.0        0.0        0.0        0.0 2022-12-22  \n",
      "\n",
      "[245 rows x 73 columns]\n"
     ]
    }
   ],
   "source": [
    "df_no_heating = df_combined[df_combined.iloc[:, -25:-1].sum(axis=1) == 0]  \n",
    "df_heating = df_combined[df_combined.iloc[:, -25:-1].sum(axis=1) != 0]      \n",
    "\n",
    "#print(df_no_heating)\n",
    "df_heating = df_heating.reset_index(drop=True)\n",
    "\n",
    "print(df_heating)\n",
    "\n"
   ]
  },
  {
   "cell_type": "code",
   "execution_count": 4,
   "id": "67530579-30ee-443f-87f9-45eb6a2f6ae5",
   "metadata": {},
   "outputs": [],
   "source": [
    "heating_indices = df_heating.index\n",
    "#print(heating_indices)\n",
    "df_temp_out_heating = df_temp_out.iloc[heating_indices]\n",
    "df_temp_in_heating = df_temp_in.iloc[heating_indices]\n",
    "df_heat_heating = df_heat.iloc[heating_indices]\n",
    "\n",
    "#print(df_temp_out_heating)\n",
    "#print(df_temp_in_heating)\n",
    "#print(df_heat_heating)"
   ]
  },
  {
   "cell_type": "code",
   "execution_count": 5,
   "id": "a6c50f3f-3f93-4149-b98d-a50c19fc72ed",
   "metadata": {},
   "outputs": [],
   "source": [
    "def normalize_data(data):\n",
    "    scaler = TimeSeriesScalerMeanVariance()\n",
    "    data_normalized = scaler.fit_transform(data.values.reshape((data.shape[0], data.shape[1], 1)))\n",
    "    return pd.DataFrame(data_normalized.reshape(data_normalized.shape[0], data_normalized.shape[1]), columns=data.columns)\n"
   ]
  },
  {
   "cell_type": "code",
   "execution_count": 6,
   "id": "83e13124-f653-4876-8419-24704dcc7f9e",
   "metadata": {},
   "outputs": [],
   "source": [
    "\n",
    "def apply_kmeans(data,data_normalized, n_clusters=3):\n",
    "    kmeans = KMeans(n_clusters=n_clusters, random_state=42)\n",
    "    data_normalized['cluster'] = kmeans.fit_predict(data_normalized)\n",
    "    data['cluster']=data_normalized['cluster']\n",
    "    return kmeans, data\n"
   ]
  },
  {
   "cell_type": "code",
   "execution_count": null,
   "id": "fc24f50a-db64-4345-8093-0753a57cdc49",
   "metadata": {},
   "outputs": [],
   "source": []
  }
 ],
 "metadata": {
  "kernelspec": {
   "display_name": "Python 3 (ipykernel)",
   "language": "python",
   "name": "python3"
  },
  "language_info": {
   "codemirror_mode": {
    "name": "ipython",
    "version": 3
   },
   "file_extension": ".py",
   "mimetype": "text/x-python",
   "name": "python",
   "nbconvert_exporter": "python",
   "pygments_lexer": "ipython3",
   "version": "3.9.19"
  }
 },
 "nbformat": 4,
 "nbformat_minor": 5
}
